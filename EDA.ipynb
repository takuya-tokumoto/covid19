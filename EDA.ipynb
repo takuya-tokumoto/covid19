{
 "cells": [
  {
   "cell_type": "code",
   "execution_count": 96,
   "metadata": {},
   "outputs": [],
   "source": [
    "import pandas as pd\n",
    "import matplotlib.pyplot as plt\n",
    "from matplotlib.dates import DateFormatter\n",
    "import seaborn as sns\n",
    "import datetime\n",
    "import matplotlib.dates as dates"
   ]
  },
  {
   "cell_type": "markdown",
   "metadata": {},
   "source": [
    "# 読込"
   ]
  },
  {
   "cell_type": "code",
   "execution_count": 7,
   "metadata": {},
   "outputs": [],
   "source": [
    "df = pd.read_csv('https://stopcovid19.metro.tokyo.lg.jp/data/130001_tokyo_covid19_patients.csv',)"
   ]
  },
  {
   "cell_type": "code",
   "execution_count": 8,
   "metadata": {},
   "outputs": [
    {
     "data": {
      "text/html": [
       "<div>\n",
       "<style scoped>\n",
       "    .dataframe tbody tr th:only-of-type {\n",
       "        vertical-align: middle;\n",
       "    }\n",
       "\n",
       "    .dataframe tbody tr th {\n",
       "        vertical-align: top;\n",
       "    }\n",
       "\n",
       "    .dataframe thead th {\n",
       "        text-align: right;\n",
       "    }\n",
       "</style>\n",
       "<table border=\"1\" class=\"dataframe\">\n",
       "  <thead>\n",
       "    <tr style=\"text-align: right;\">\n",
       "      <th></th>\n",
       "      <th>No</th>\n",
       "      <th>全国地方公共団体コード</th>\n",
       "      <th>都道府県名</th>\n",
       "      <th>市区町村名</th>\n",
       "      <th>公表_年月日</th>\n",
       "      <th>発症_年月日</th>\n",
       "      <th>確定_年月日</th>\n",
       "      <th>患者_居住地</th>\n",
       "      <th>患者_年代</th>\n",
       "      <th>患者_性別</th>\n",
       "      <th>患者_職業</th>\n",
       "      <th>患者_状態</th>\n",
       "      <th>患者_症状</th>\n",
       "      <th>患者_渡航歴の有無フラグ</th>\n",
       "      <th>患者_接触歴の有無フラグ</th>\n",
       "      <th>備考</th>\n",
       "      <th>退院済フラグ</th>\n",
       "    </tr>\n",
       "  </thead>\n",
       "  <tbody>\n",
       "    <tr>\n",
       "      <th>0</th>\n",
       "      <td>1</td>\n",
       "      <td>130001</td>\n",
       "      <td>東京都</td>\n",
       "      <td>NaN</td>\n",
       "      <td>2020-01-24</td>\n",
       "      <td>NaN</td>\n",
       "      <td>NaN</td>\n",
       "      <td>湖北省武漢市</td>\n",
       "      <td>40代</td>\n",
       "      <td>男性</td>\n",
       "      <td>NaN</td>\n",
       "      <td>NaN</td>\n",
       "      <td>NaN</td>\n",
       "      <td>NaN</td>\n",
       "      <td>NaN</td>\n",
       "      <td>NaN</td>\n",
       "      <td>1.0</td>\n",
       "    </tr>\n",
       "    <tr>\n",
       "      <th>1</th>\n",
       "      <td>2</td>\n",
       "      <td>130001</td>\n",
       "      <td>東京都</td>\n",
       "      <td>NaN</td>\n",
       "      <td>2020-01-25</td>\n",
       "      <td>NaN</td>\n",
       "      <td>NaN</td>\n",
       "      <td>湖北省武漢市</td>\n",
       "      <td>30代</td>\n",
       "      <td>女性</td>\n",
       "      <td>NaN</td>\n",
       "      <td>NaN</td>\n",
       "      <td>NaN</td>\n",
       "      <td>NaN</td>\n",
       "      <td>NaN</td>\n",
       "      <td>NaN</td>\n",
       "      <td>1.0</td>\n",
       "    </tr>\n",
       "    <tr>\n",
       "      <th>2</th>\n",
       "      <td>3</td>\n",
       "      <td>130001</td>\n",
       "      <td>東京都</td>\n",
       "      <td>NaN</td>\n",
       "      <td>2020-01-30</td>\n",
       "      <td>NaN</td>\n",
       "      <td>NaN</td>\n",
       "      <td>湖南省長沙市</td>\n",
       "      <td>30代</td>\n",
       "      <td>女性</td>\n",
       "      <td>NaN</td>\n",
       "      <td>NaN</td>\n",
       "      <td>NaN</td>\n",
       "      <td>NaN</td>\n",
       "      <td>NaN</td>\n",
       "      <td>NaN</td>\n",
       "      <td>1.0</td>\n",
       "    </tr>\n",
       "    <tr>\n",
       "      <th>3</th>\n",
       "      <td>4</td>\n",
       "      <td>130001</td>\n",
       "      <td>東京都</td>\n",
       "      <td>NaN</td>\n",
       "      <td>2020-02-13</td>\n",
       "      <td>NaN</td>\n",
       "      <td>NaN</td>\n",
       "      <td>都内</td>\n",
       "      <td>70代</td>\n",
       "      <td>男性</td>\n",
       "      <td>NaN</td>\n",
       "      <td>NaN</td>\n",
       "      <td>NaN</td>\n",
       "      <td>NaN</td>\n",
       "      <td>NaN</td>\n",
       "      <td>NaN</td>\n",
       "      <td>1.0</td>\n",
       "    </tr>\n",
       "    <tr>\n",
       "      <th>4</th>\n",
       "      <td>5</td>\n",
       "      <td>130001</td>\n",
       "      <td>東京都</td>\n",
       "      <td>NaN</td>\n",
       "      <td>2020-02-14</td>\n",
       "      <td>NaN</td>\n",
       "      <td>NaN</td>\n",
       "      <td>都内</td>\n",
       "      <td>50代</td>\n",
       "      <td>女性</td>\n",
       "      <td>NaN</td>\n",
       "      <td>NaN</td>\n",
       "      <td>NaN</td>\n",
       "      <td>NaN</td>\n",
       "      <td>NaN</td>\n",
       "      <td>NaN</td>\n",
       "      <td>1.0</td>\n",
       "    </tr>\n",
       "  </tbody>\n",
       "</table>\n",
       "</div>"
      ],
      "text/plain": [
       "   No  全国地方公共団体コード 都道府県名  市区町村名      公表_年月日 発症_年月日 確定_年月日  患者_居住地 患者_年代 患者_性別  \\\n",
       "0   1       130001   東京都    NaN  2020-01-24    NaN    NaN  湖北省武漢市   40代    男性   \n",
       "1   2       130001   東京都    NaN  2020-01-25    NaN    NaN  湖北省武漢市   30代    女性   \n",
       "2   3       130001   東京都    NaN  2020-01-30    NaN    NaN  湖南省長沙市   30代    女性   \n",
       "3   4       130001   東京都    NaN  2020-02-13    NaN    NaN      都内   70代    男性   \n",
       "4   5       130001   東京都    NaN  2020-02-14    NaN    NaN      都内   50代    女性   \n",
       "\n",
       "  患者_職業  患者_状態  患者_症状  患者_渡航歴の有無フラグ  患者_接触歴の有無フラグ  備考  退院済フラグ  \n",
       "0   NaN    NaN    NaN           NaN           NaN NaN     1.0  \n",
       "1   NaN    NaN    NaN           NaN           NaN NaN     1.0  \n",
       "2   NaN    NaN    NaN           NaN           NaN NaN     1.0  \n",
       "3   NaN    NaN    NaN           NaN           NaN NaN     1.0  \n",
       "4   NaN    NaN    NaN           NaN           NaN NaN     1.0  "
      ]
     },
     "execution_count": 8,
     "metadata": {},
     "output_type": "execute_result"
    }
   ],
   "source": [
    "df.head()"
   ]
  },
  {
   "cell_type": "code",
   "execution_count": 10,
   "metadata": {},
   "outputs": [
    {
     "data": {
      "text/plain": [
       "(113218, 17)"
      ]
     },
     "execution_count": 10,
     "metadata": {},
     "output_type": "execute_result"
    }
   ],
   "source": [
    "df.shape"
   ]
  },
  {
   "cell_type": "code",
   "execution_count": 11,
   "metadata": {},
   "outputs": [
    {
     "data": {
      "text/plain": [
       "Index(['No', '全国地方公共団体コード', '都道府県名', '市区町村名', '公表_年月日', '発症_年月日', '確定_年月日',\n",
       "       '患者_居住地', '患者_年代', '患者_性別', '患者_職業', '患者_状態', '患者_症状', '患者_渡航歴の有無フラグ',\n",
       "       '患者_接触歴の有無フラグ', '備考', '退院済フラグ'],\n",
       "      dtype='object')"
      ]
     },
     "execution_count": 11,
     "metadata": {},
     "output_type": "execute_result"
    }
   ],
   "source": [
    "df.columns"
   ]
  },
  {
   "cell_type": "code",
   "execution_count": 19,
   "metadata": {},
   "outputs": [
    {
     "data": {
      "text/plain": [
       "No                int64\n",
       "全国地方公共団体コード       int64\n",
       "都道府県名            object\n",
       "市区町村名           float64\n",
       "公表_年月日           object\n",
       "発症_年月日           object\n",
       "確定_年月日           object\n",
       "患者_居住地           object\n",
       "患者_年代            object\n",
       "患者_性別            object\n",
       "患者_職業            object\n",
       "患者_状態           float64\n",
       "患者_症状           float64\n",
       "患者_渡航歴の有無フラグ    float64\n",
       "患者_接触歴の有無フラグ    float64\n",
       "備考              float64\n",
       "退院済フラグ          float64\n",
       "dtype: object"
      ]
     },
     "execution_count": 19,
     "metadata": {},
     "output_type": "execute_result"
    }
   ],
   "source": [
    "df.dtypes"
   ]
  },
  {
   "cell_type": "code",
   "execution_count": 104,
   "metadata": {},
   "outputs": [
    {
     "name": "stdout",
     "output_type": "stream",
     "text": [
      "No                   0\n",
      "全国地方公共団体コード          0\n",
      "都道府県名                0\n",
      "市区町村名           113218\n",
      "公表_年月日               0\n",
      "発症_年月日           58814\n",
      "確定_年月日           27274\n",
      "患者_居住地             293\n",
      "患者_年代                0\n",
      "患者_性別                0\n",
      "患者_職業            27274\n",
      "患者_状態           113218\n",
      "患者_症状           113218\n",
      "患者_渡航歴の有無フラグ    113218\n",
      "患者_接触歴の有無フラグ     77460\n",
      "備考              113218\n",
      "退院済フラグ            8758\n",
      "dtype: int64\n"
     ]
    }
   ],
   "source": [
    "print(df.isnull().sum())"
   ]
  },
  {
   "cell_type": "markdown",
   "metadata": {},
   "source": [
    "# データアセスメント"
   ]
  },
  {
   "cell_type": "markdown",
   "metadata": {},
   "source": [
    "## 全国地方公共団体コード"
   ]
  },
  {
   "cell_type": "code",
   "execution_count": 12,
   "metadata": {},
   "outputs": [
    {
     "data": {
      "text/plain": [
       "全国地方公共団体コード\n",
       "130001    113218\n",
       "Name: No, dtype: int64"
      ]
     },
     "execution_count": 12,
     "metadata": {},
     "output_type": "execute_result"
    }
   ],
   "source": [
    "df.groupby(\"全国地方公共団体コード\")[\"No\"].count()"
   ]
  },
  {
   "cell_type": "markdown",
   "metadata": {},
   "source": [
    "- \"130001\"のみ"
   ]
  },
  {
   "cell_type": "markdown",
   "metadata": {},
   "source": [
    "## 都道府県名"
   ]
  },
  {
   "cell_type": "code",
   "execution_count": 13,
   "metadata": {},
   "outputs": [
    {
     "data": {
      "text/plain": [
       "都道府県名\n",
       "東京都    113218\n",
       "Name: No, dtype: int64"
      ]
     },
     "execution_count": 13,
     "metadata": {},
     "output_type": "execute_result"
    }
   ],
   "source": [
    "df.groupby(\"都道府県名\")[\"No\"].count()"
   ]
  },
  {
   "cell_type": "markdown",
   "metadata": {},
   "source": [
    "- 東京都のみ"
   ]
  },
  {
   "cell_type": "markdown",
   "metadata": {},
   "source": [
    "## 市区町村名"
   ]
  },
  {
   "cell_type": "code",
   "execution_count": 14,
   "metadata": {},
   "outputs": [
    {
     "data": {
      "text/plain": [
       "Series([], Name: No, dtype: int64)"
      ]
     },
     "execution_count": 14,
     "metadata": {},
     "output_type": "execute_result"
    }
   ],
   "source": [
    "df.groupby(\"市区町村名\")[\"No\"].count()"
   ]
  },
  {
   "cell_type": "markdown",
   "metadata": {},
   "source": [
    "- データなし"
   ]
  },
  {
   "cell_type": "markdown",
   "metadata": {},
   "source": [
    "## 公表_年月日"
   ]
  },
  {
   "cell_type": "code",
   "execution_count": 30,
   "metadata": {},
   "outputs": [
    {
     "name": "stdout",
     "output_type": "stream",
     "text": [
      "2020-01-24\n",
      "2021-03-06\n"
     ]
    }
   ],
   "source": [
    "print(df[\"公表_年月日\"].min())\n",
    "print(df[\"公表_年月日\"].max())"
   ]
  },
  {
   "cell_type": "code",
   "execution_count": 69,
   "metadata": {},
   "outputs": [
    {
     "data": {
      "text/html": [
       "<div>\n",
       "<style scoped>\n",
       "    .dataframe tbody tr th:only-of-type {\n",
       "        vertical-align: middle;\n",
       "    }\n",
       "\n",
       "    .dataframe tbody tr th {\n",
       "        vertical-align: top;\n",
       "    }\n",
       "\n",
       "    .dataframe thead th {\n",
       "        text-align: right;\n",
       "    }\n",
       "</style>\n",
       "<table border=\"1\" class=\"dataframe\">\n",
       "  <thead>\n",
       "    <tr style=\"text-align: right;\">\n",
       "      <th></th>\n",
       "      <th>公表_年月日</th>\n",
       "      <th>count</th>\n",
       "    </tr>\n",
       "  </thead>\n",
       "  <tbody>\n",
       "    <tr>\n",
       "      <th>0</th>\n",
       "      <td>2020-01-24</td>\n",
       "      <td>1</td>\n",
       "    </tr>\n",
       "    <tr>\n",
       "      <th>1</th>\n",
       "      <td>2020-01-25</td>\n",
       "      <td>1</td>\n",
       "    </tr>\n",
       "    <tr>\n",
       "      <th>2</th>\n",
       "      <td>2020-01-30</td>\n",
       "      <td>1</td>\n",
       "    </tr>\n",
       "    <tr>\n",
       "      <th>3</th>\n",
       "      <td>2020-02-13</td>\n",
       "      <td>1</td>\n",
       "    </tr>\n",
       "    <tr>\n",
       "      <th>4</th>\n",
       "      <td>2020-02-14</td>\n",
       "      <td>2</td>\n",
       "    </tr>\n",
       "  </tbody>\n",
       "</table>\n",
       "</div>"
      ],
      "text/plain": [
       "      公表_年月日  count\n",
       "0 2020-01-24      1\n",
       "1 2020-01-25      1\n",
       "2 2020-01-30      1\n",
       "3 2020-02-13      1\n",
       "4 2020-02-14      2"
      ]
     },
     "execution_count": 69,
     "metadata": {},
     "output_type": "execute_result"
    }
   ],
   "source": [
    "df_kouhyo_dt = df.groupby(\"公表_年月日\")[\"No\"].size().reset_index()\n",
    "df_kouhyo_dt.columns = ['公表_年月日', 'count']\n",
    "df_kouhyo_dt[\"公表_年月日\"] = pd.to_datetime(df_kouhyo_dt[\"公表_年月日\"])\n",
    "\n",
    "df_kouhyo_dt.head()"
   ]
  },
  {
   "cell_type": "code",
   "execution_count": 70,
   "metadata": {},
   "outputs": [
    {
     "data": {
      "text/plain": [
       "公表_年月日    datetime64[ns]\n",
       "count              int64\n",
       "dtype: object"
      ]
     },
     "execution_count": 70,
     "metadata": {},
     "output_type": "execute_result"
    }
   ],
   "source": [
    "df_kouhyo_dt.dtypes"
   ]
  },
  {
   "cell_type": "code",
   "execution_count": 102,
   "metadata": {},
   "outputs": [
    {
     "data": {
      "image/png": "[encoded data removed]",
      "text/plain": [
       "<Figure size 1440x720 with 1 Axes>"
      ]
     },
     "metadata": {
      "needs_background": "light"
     },
     "output_type": "display_data"
    }
   ],
   "source": [
    "# プロットを表示するためにポップアップしたウィンドウをクローズ\n",
    "plt.close(1)\n",
    "\n",
    "# Figureの初期化とサイズの指定\n",
    "figure_ = plt.figure(1, figsize=(20,10))\n",
    "# Figure内にAxesを追加()\n",
    "axes_ = figure_.add_subplot(111)\n",
    "axes_.plot(df_kouhyo_dt[\"公表_年月日\"], df_kouhyo_dt[\"count\"])\n",
    "\n",
    "# 目盛り位置の設定\n",
    "axes_.xaxis.set_major_locator(dates.MonthLocator([1,2,3,4,5,6,7,8,9,10,11,12]))\n",
    "# 時刻軸のフォーマットを変更する（年月に）\n",
    "axes_.xaxis.set_major_formatter(dates.DateFormatter('%Y-%m'))\n",
    "\n",
    "axes_.tick_params(axis='x', rotation=270)"
   ]
  },
  {
   "cell_type": "markdown",
   "metadata": {},
   "source": [
    "- 欠損なし\n",
    "- PCR検査結果の報告日時点での結果と思われる\n",
    "- 周期性があるのは土日の結果を月曜日に報告しているから？"
   ]
  },
  {
   "cell_type": "markdown",
   "metadata": {},
   "source": [
    "## 発症_年月日"
   ]
  },
  {
   "cell_type": "code",
   "execution_count": 110,
   "metadata": {},
   "outputs": [
    {
     "data": {
      "text/html": [
       "<div>\n",
       "<style scoped>\n",
       "    .dataframe tbody tr th:only-of-type {\n",
       "        vertical-align: middle;\n",
       "    }\n",
       "\n",
       "    .dataframe tbody tr th {\n",
       "        vertical-align: top;\n",
       "    }\n",
       "\n",
       "    .dataframe thead th {\n",
       "        text-align: right;\n",
       "    }\n",
       "</style>\n",
       "<table border=\"1\" class=\"dataframe\">\n",
       "  <thead>\n",
       "    <tr style=\"text-align: right;\">\n",
       "      <th></th>\n",
       "      <th>発症_年月日</th>\n",
       "      <th>count</th>\n",
       "    </tr>\n",
       "  </thead>\n",
       "  <tbody>\n",
       "    <tr>\n",
       "      <th>0</th>\n",
       "      <td>2020-07-27</td>\n",
       "      <td>1</td>\n",
       "    </tr>\n",
       "    <tr>\n",
       "      <th>1</th>\n",
       "      <td>2020-07-31</td>\n",
       "      <td>2</td>\n",
       "    </tr>\n",
       "    <tr>\n",
       "      <th>2</th>\n",
       "      <td>2020-08-11</td>\n",
       "      <td>2</td>\n",
       "    </tr>\n",
       "    <tr>\n",
       "      <th>3</th>\n",
       "      <td>2020-08-13</td>\n",
       "      <td>1</td>\n",
       "    </tr>\n",
       "    <tr>\n",
       "      <th>4</th>\n",
       "      <td>2020-08-15</td>\n",
       "      <td>1</td>\n",
       "    </tr>\n",
       "  </tbody>\n",
       "</table>\n",
       "</div>"
      ],
      "text/plain": [
       "      発症_年月日  count\n",
       "0 2020-07-27      1\n",
       "1 2020-07-31      2\n",
       "2 2020-08-11      2\n",
       "3 2020-08-13      1\n",
       "4 2020-08-15      1"
      ]
     },
     "execution_count": 110,
     "metadata": {},
     "output_type": "execute_result"
    }
   ],
   "source": [
    "df_hasyou_dt = df[df[\"発症_年月日\"].notna()]\n",
    "df_hasyou_dt = df_hasyou_dt.groupby(\"発症_年月日\")[\"No\"].size().reset_index()\n",
    "df_hasyou_dt.columns = ['発症_年月日', 'count']\n",
    "df_hasyou_dt[\"発症_年月日\"] = pd.to_datetime(df_hasyou_dt[\"発症_年月日\"])\n",
    "\n",
    "df_hasyou_dt.head()"
   ]
  },
  {
   "cell_type": "code",
   "execution_count": 112,
   "metadata": {},
   "outputs": [
    {
     "name": "stdout",
     "output_type": "stream",
     "text": [
      "2020-07-27 00:00:00\n",
      "2021-02-27 00:00:00\n"
     ]
    }
   ],
   "source": [
    "print(df_hasyou_dt[\"発症_年月日\"].min())\n",
    "print(df_hasyou_dt[\"発症_年月日\"].max())"
   ]
  },
  {
   "cell_type": "code",
   "execution_count": 113,
   "metadata": {},
   "outputs": [
    {
     "data": {
      "image/png": "[encoded data removed]",
      "text/plain": [
       "<Figure size 1440x720 with 1 Axes>"
      ]
     },
     "metadata": {
      "needs_background": "light"
     },
     "output_type": "display_data"
    }
   ],
   "source": [
    "# プロットを表示するためにポップアップしたウィンドウをクローズ\n",
    "plt.close(1)\n",
    "\n",
    "# Figureの初期化とサイズの指定\n",
    "figure_ = plt.figure(1, figsize=(20,10))\n",
    "# Figure内にAxesを追加()\n",
    "axes_ = figure_.add_subplot(111)\n",
    "axes_.plot(df_hasyou_dt[\"発症_年月日\"], df_hasyou_dt[\"count\"])\n",
    "\n",
    "# 目盛り位置の設定\n",
    "axes_.xaxis.set_major_locator(dates.MonthLocator([1,2,3,4,5,6,7,8,9,10,11,12]))\n",
    "# 時刻軸のフォーマットを変更する（年月に）\n",
    "axes_.xaxis.set_major_formatter(dates.DateFormatter('%Y-%m'))\n",
    "\n",
    "axes_.tick_params(axis='x', rotation=270)"
   ]
  },
  {
   "cell_type": "markdown",
   "metadata": {},
   "source": [
    "## 確定_年月日"
   ]
  },
  {
   "cell_type": "code",
   "execution_count": 114,
   "metadata": {},
   "outputs": [
    {
     "data": {
      "text/html": [
       "<div>\n",
       "<style scoped>\n",
       "    .dataframe tbody tr th:only-of-type {\n",
       "        vertical-align: middle;\n",
       "    }\n",
       "\n",
       "    .dataframe tbody tr th {\n",
       "        vertical-align: top;\n",
       "    }\n",
       "\n",
       "    .dataframe thead th {\n",
       "        text-align: right;\n",
       "    }\n",
       "</style>\n",
       "<table border=\"1\" class=\"dataframe\">\n",
       "  <thead>\n",
       "    <tr style=\"text-align: right;\">\n",
       "      <th></th>\n",
       "      <th>確定_年月日</th>\n",
       "      <th>count</th>\n",
       "    </tr>\n",
       "  </thead>\n",
       "  <tbody>\n",
       "    <tr>\n",
       "      <th>0</th>\n",
       "      <td>2020-06-29</td>\n",
       "      <td>1</td>\n",
       "    </tr>\n",
       "    <tr>\n",
       "      <th>1</th>\n",
       "      <td>2020-07-26</td>\n",
       "      <td>1</td>\n",
       "    </tr>\n",
       "    <tr>\n",
       "      <th>2</th>\n",
       "      <td>2020-08-02</td>\n",
       "      <td>3</td>\n",
       "    </tr>\n",
       "    <tr>\n",
       "      <th>3</th>\n",
       "      <td>2020-08-04</td>\n",
       "      <td>1</td>\n",
       "    </tr>\n",
       "    <tr>\n",
       "      <th>4</th>\n",
       "      <td>2020-08-12</td>\n",
       "      <td>1</td>\n",
       "    </tr>\n",
       "  </tbody>\n",
       "</table>\n",
       "</div>"
      ],
      "text/plain": [
       "      確定_年月日  count\n",
       "0 2020-06-29      1\n",
       "1 2020-07-26      1\n",
       "2 2020-08-02      3\n",
       "3 2020-08-04      1\n",
       "4 2020-08-12      1"
      ]
     },
     "execution_count": 114,
     "metadata": {},
     "output_type": "execute_result"
    }
   ],
   "source": [
    "df_kakutei_dt = df[df[\"確定_年月日\"].notna()]\n",
    "df_kakutei_dt = df_kakutei_dt.groupby(\"確定_年月日\")[\"No\"].size().reset_index()\n",
    "df_kakutei_dt.columns = ['確定_年月日', 'count']\n",
    "df_kakutei_dt[\"確定_年月日\"] = pd.to_datetime(df_kakutei_dt[\"確定_年月日\"])\n",
    "\n",
    "df_kakutei_dt.head()"
   ]
  },
  {
   "cell_type": "code",
   "execution_count": 117,
   "metadata": {},
   "outputs": [
    {
     "name": "stdout",
     "output_type": "stream",
     "text": [
      "2020-06-29 00:00:00\n",
      "2021-02-28 00:00:00\n"
     ]
    }
   ],
   "source": [
    "print(df_kakutei_dt[\"確定_年月日\"].min())\n",
    "print(df_kakutei_dt[\"確定_年月日\"].max())"
   ]
  },
  {
   "cell_type": "code",
   "execution_count": 118,
   "metadata": {},
   "outputs": [
    {
     "data": {
      "image/png": "[encoded data removed]",
      "text/plain": [
       "<Figure size 1440x720 with 1 Axes>"
      ]
     },
     "metadata": {
      "needs_background": "light"
     },
     "output_type": "display_data"
    }
   ],
   "source": [
    "# プロットを表示するためにポップアップしたウィンドウをクローズ\n",
    "plt.close(1)\n",
    "\n",
    "# Figureの初期化とサイズの指定\n",
    "figure_ = plt.figure(1, figsize=(20,10))\n",
    "# Figure内にAxesを追加()\n",
    "axes_ = figure_.add_subplot(111)\n",
    "axes_.plot(df_kakutei_dt[\"確定_年月日\"], df_kakutei_dt[\"count\"])\n",
    "\n",
    "# 目盛り位置の設定\n",
    "axes_.xaxis.set_major_locator(dates.MonthLocator([1,2,3,4,5,6,7,8,9,10,11,12]))\n",
    "# 時刻軸のフォーマットを変更する（年月に）\n",
    "axes_.xaxis.set_major_formatter(dates.DateFormatter('%Y-%m'))\n",
    "\n",
    "axes_.tick_params(axis='x', rotation=270)"
   ]
  },
  {
   "cell_type": "markdown",
   "metadata": {},
   "source": [
    "## 患者_居住地"
   ]
  },
  {
   "cell_type": "code",
   "execution_count": 119,
   "metadata": {},
   "outputs": [
    {
     "data": {
      "text/plain": [
       "患者_居住地\n",
       "-              1\n",
       "―            377\n",
       "湖北省武漢市         2\n",
       "湖南省長沙市         1\n",
       "調査中           85\n",
       "都内        104069\n",
       "都外          8388\n",
       "－              2\n",
       "Name: No, dtype: int64"
      ]
     },
     "execution_count": 119,
     "metadata": {},
     "output_type": "execute_result"
    }
   ],
   "source": [
    "df.groupby(\"患者_居住地\")[\"No\"].count()"
   ]
  },
  {
   "cell_type": "markdown",
   "metadata": {},
   "source": [
    "## 患者_年代"
   ]
  },
  {
   "cell_type": "code",
   "execution_count": 120,
   "metadata": {},
   "outputs": [
    {
     "data": {
      "text/plain": [
       "患者_年代\n",
       "-             4\n",
       "100歳以上       74\n",
       "10代        5535\n",
       "10歳未満      2748\n",
       "20代       29332\n",
       "30代       21761\n",
       "40代       17179\n",
       "50代       14612\n",
       "60代        8169\n",
       "70代        6794\n",
       "80代        5108\n",
       "90代        1896\n",
       "不明            6\n",
       "Name: No, dtype: int64"
      ]
     },
     "execution_count": 120,
     "metadata": {},
     "output_type": "execute_result"
    }
   ],
   "source": [
    "df.groupby(\"患者_年代\")[\"No\"].count()"
   ]
  },
  {
   "cell_type": "markdown",
   "metadata": {},
   "source": [
    "## 患者_性別"
   ]
  },
  {
   "cell_type": "code",
   "execution_count": 121,
   "metadata": {},
   "outputs": [
    {
     "data": {
      "text/plain": [
       "患者_性別\n",
       "-         7\n",
       "―         1\n",
       "女性    50292\n",
       "男性    62916\n",
       "－         2\n",
       "Name: No, dtype: int64"
      ]
     },
     "execution_count": 121,
     "metadata": {},
     "output_type": "execute_result"
    }
   ],
   "source": [
    "df.groupby(\"患者_性別\")[\"No\"].count()"
   ]
  },
  {
   "cell_type": "markdown",
   "metadata": {},
   "source": [
    "## 患者_職業"
   ]
  },
  {
   "cell_type": "code",
   "execution_count": 122,
   "metadata": {},
   "outputs": [
    {
     "data": {
      "text/plain": [
       "患者_職業\n",
       "                1\n",
       "-             843\n",
       "その他          2621\n",
       "その他ドライバー        1\n",
       "その他運転手        214\n",
       "アルバイト         728\n",
       "サービス            1\n",
       "サービス業         733\n",
       "サ－ビス業           3\n",
       "タクシー運転          1\n",
       "タクシー運転手       178\n",
       "タクシー運転業         1\n",
       "タクシ－運転手         1\n",
       "パートタイム          1\n",
       "パート職員         457\n",
       "ホテルマン           1\n",
       "マスコミ            1\n",
       "主婦           1241\n",
       "会社員         16071\n",
       "会社員（営業職）        1\n",
       "会社員（営業）         1\n",
       "会社職員            1\n",
       "保育園             1\n",
       "保育所事務           1\n",
       "公務員           603\n",
       "医師            406\n",
       "医療従事者        2481\n",
       "学生           4081\n",
       "小学生           660\n",
       "居酒屋店員           1\n",
       "幼児            423\n",
       "建築士             1\n",
       "建築業             1\n",
       "建設業           577\n",
       "接客業          1556\n",
       "教員            304\n",
       "施設              1\n",
       "施設職員         1567\n",
       "日大経済学部          1\n",
       "歌手              1\n",
       "無職           5499\n",
       "病院職員            1\n",
       "精肉店             1\n",
       "自動販売機           1\n",
       "自営業          1762\n",
       "舞台関係            1\n",
       "電気工事            1\n",
       "音楽系             1\n",
       "飲食業          2094\n",
       "飲食業店員           1\n",
       "－           40815\n",
       "Name: No, dtype: int64"
      ]
     },
     "execution_count": 122,
     "metadata": {},
     "output_type": "execute_result"
    }
   ],
   "source": [
    "df.groupby(\"患者_職業\")[\"No\"].count()"
   ]
  },
  {
   "cell_type": "markdown",
   "metadata": {},
   "source": [
    "## 退院済フラグ"
   ]
  },
  {
   "cell_type": "code",
   "execution_count": 126,
   "metadata": {},
   "outputs": [
    {
     "data": {
      "text/plain": [
       "退院済フラグ\n",
       "1.0    104460\n",
       "Name: No, dtype: int64"
      ]
     },
     "execution_count": 126,
     "metadata": {},
     "output_type": "execute_result"
    }
   ],
   "source": [
    "df.groupby(\"退院済フラグ\")[\"No\"].count()"
   ]
  }
 ],
 "metadata": {
  "kernelspec": {
   "display_name": "Python 3",
   "language": "python",
   "name": "python3"
  },
  "language_info": {
   "codemirror_mode": {
    "name": "ipython",
    "version": 3
   },
   "file_extension": ".py",
   "mimetype": "text/x-python",
   "name": "python",
   "nbconvert_exporter": "python",
   "pygments_lexer": "ipython3",
   "version": "3.6.7"
  }
 },
 "nbformat": 4,
 "nbformat_minor": 2
}
